{
 "cells": [
  {
   "cell_type": "code",
   "execution_count": 9,
   "metadata": {
    "collapsed": true
   },
   "outputs": [],
   "source": [
    "adj_list_location = \"../data/adjacency_list.csv\"\n",
    "geojson_location = \"../data/vaprecincts2013.geojson\""
   ]
  },
  {
   "cell_type": "code",
   "execution_count": 225,
   "metadata": {
    "collapsed": true
   },
   "outputs": [],
   "source": [
    "import pandas as pd\n",
    "import geopandas as gpd\n",
    "import igraph\n",
    "from rtree import index\n",
    "import random"
   ]
  },
  {
   "cell_type": "code",
   "execution_count": 226,
   "metadata": {
    "collapsed": true
   },
   "outputs": [],
   "source": [
    "geo_df = gpd.read_file(geojson_location).to_crs({'init' : 'epsg:3687'})"
   ]
  },
  {
   "cell_type": "code",
   "execution_count": 8,
   "metadata": {},
   "outputs": [
    {
     "data": {
      "text/html": [
       "<div>\n",
       "<style>\n",
       "    .dataframe thead tr:only-child th {\n",
       "        text-align: right;\n",
       "    }\n",
       "\n",
       "    .dataframe thead th {\n",
       "        text-align: left;\n",
       "    }\n",
       "\n",
       "    .dataframe tbody tr th {\n",
       "        vertical-align: top;\n",
       "    }\n",
       "</style>\n",
       "<table border=\"1\" class=\"dataframe\">\n",
       "  <thead>\n",
       "    <tr style=\"text-align: right;\">\n",
       "      <th></th>\n",
       "      <th>PRECINCT</th>\n",
       "      <th>COUNTY</th>\n",
       "      <th>PRECINCT2</th>\n",
       "      <th>CODE</th>\n",
       "      <th>NAME</th>\n",
       "      <th>geometry</th>\n",
       "    </tr>\n",
       "  </thead>\n",
       "  <tbody>\n",
       "    <tr>\n",
       "      <th>17</th>\n",
       "      <td>001</td>\n",
       "      <td>770</td>\n",
       "      <td>0001</td>\n",
       "      <td>7700001</td>\n",
       "      <td>HIGHLAND 1</td>\n",
       "      <td>POLYGON ((3369484.720854738 1105958.277720217,...</td>\n",
       "    </tr>\n",
       "    <tr>\n",
       "      <th>24</th>\n",
       "      <td>001</td>\n",
       "      <td>810</td>\n",
       "      <td>0001</td>\n",
       "      <td>8100001</td>\n",
       "      <td>NORTH BEACH</td>\n",
       "      <td>POLYGON ((3724404.044834437 1063363.491314226,...</td>\n",
       "    </tr>\n",
       "    <tr>\n",
       "      <th>141</th>\n",
       "      <td>001</td>\n",
       "      <td>530</td>\n",
       "      <td>0001</td>\n",
       "      <td>5300001</td>\n",
       "      <td>FIRST WARD</td>\n",
       "      <td>POLYGON ((3425970.940243367 1155519.467685004,...</td>\n",
       "    </tr>\n",
       "    <tr>\n",
       "      <th>255</th>\n",
       "      <td>001</td>\n",
       "      <td>520</td>\n",
       "      <td>0001</td>\n",
       "      <td>5200001</td>\n",
       "      <td>FIRST WARD</td>\n",
       "      <td>POLYGON ((3165115.154699003 1035751.262412749,...</td>\n",
       "    </tr>\n",
       "    <tr>\n",
       "      <th>380</th>\n",
       "      <td>001</td>\n",
       "      <td>685</td>\n",
       "      <td>0001</td>\n",
       "      <td>6850001</td>\n",
       "      <td>PRECINCT ONE</td>\n",
       "      <td>POLYGON ((3593412.151182791 1271014.078470423,...</td>\n",
       "    </tr>\n",
       "    <tr>\n",
       "      <th>439</th>\n",
       "      <td>001</td>\n",
       "      <td>610</td>\n",
       "      <td>0001</td>\n",
       "      <td>6100001</td>\n",
       "      <td>FIRST WARD</td>\n",
       "      <td>POLYGON ((3614931.371911073 1283447.895843895,...</td>\n",
       "    </tr>\n",
       "    <tr>\n",
       "      <th>681</th>\n",
       "      <td>001</td>\n",
       "      <td>640</td>\n",
       "      <td>0001</td>\n",
       "      <td>6400001</td>\n",
       "      <td>EAST</td>\n",
       "      <td>POLYGON ((3286244.016052797 1042950.00822324, ...</td>\n",
       "    </tr>\n",
       "    <tr>\n",
       "      <th>690</th>\n",
       "      <td>001</td>\n",
       "      <td>590</td>\n",
       "      <td>0001</td>\n",
       "      <td>5900001</td>\n",
       "      <td>WARD ONE</td>\n",
       "      <td>POLYGON ((3421296.685954724 1028176.391220204,...</td>\n",
       "    </tr>\n",
       "    <tr>\n",
       "      <th>841</th>\n",
       "      <td>001</td>\n",
       "      <td>720</td>\n",
       "      <td>0001</td>\n",
       "      <td>7200001</td>\n",
       "      <td>EAST WARD</td>\n",
       "      <td>POLYGON ((3129421.076528723 1073139.086425547,...</td>\n",
       "    </tr>\n",
       "    <tr>\n",
       "      <th>891</th>\n",
       "      <td>001</td>\n",
       "      <td>775</td>\n",
       "      <td>0001</td>\n",
       "      <td>7750001</td>\n",
       "      <td>NORTH SALEM NO 2</td>\n",
       "      <td>POLYGON ((3362164.389100533 1107676.581165892,...</td>\n",
       "    </tr>\n",
       "    <tr>\n",
       "      <th>941</th>\n",
       "      <td>001</td>\n",
       "      <td>820</td>\n",
       "      <td>0001</td>\n",
       "      <td>8200001</td>\n",
       "      <td>WARD A</td>\n",
       "      <td>POLYGON ((3467877.508146662 1195418.971452138,...</td>\n",
       "    </tr>\n",
       "    <tr>\n",
       "      <th>954</th>\n",
       "      <td>001</td>\n",
       "      <td>735</td>\n",
       "      <td>0001</td>\n",
       "      <td>7350001</td>\n",
       "      <td>CENTRAL</td>\n",
       "      <td>POLYGON ((3689510.315447792 1088665.531827679,...</td>\n",
       "    </tr>\n",
       "    <tr>\n",
       "      <th>968</th>\n",
       "      <td>001</td>\n",
       "      <td>570</td>\n",
       "      <td>0001</td>\n",
       "      <td>5700001</td>\n",
       "      <td>FIRST</td>\n",
       "      <td>POLYGON ((3596567.687775808 1103197.81969139, ...</td>\n",
       "    </tr>\n",
       "    <tr>\n",
       "      <th>1016</th>\n",
       "      <td>001</td>\n",
       "      <td>750</td>\n",
       "      <td>0001</td>\n",
       "      <td>7500001</td>\n",
       "      <td>EAST PRECINCT</td>\n",
       "      <td>POLYGON ((3315236.988351392 1086096.879388616,...</td>\n",
       "    </tr>\n",
       "    <tr>\n",
       "      <th>1090</th>\n",
       "      <td>001</td>\n",
       "      <td>115</td>\n",
       "      <td>0001</td>\n",
       "      <td>1150001</td>\n",
       "      <td>CHESAPEAKE</td>\n",
       "      <td>POLYGON ((3699120.61618787 1123041.756912935, ...</td>\n",
       "    </tr>\n",
       "    <tr>\n",
       "      <th>1100</th>\n",
       "      <td>001</td>\n",
       "      <td>013</td>\n",
       "      <td>0001</td>\n",
       "      <td>0130001</td>\n",
       "      <td>ARLINGTON</td>\n",
       "      <td>POLYGON ((3622365.140466081 1280620.498797325,...</td>\n",
       "    </tr>\n",
       "    <tr>\n",
       "      <th>1194</th>\n",
       "      <td>001</td>\n",
       "      <td>683</td>\n",
       "      <td>0001</td>\n",
       "      <td>6830001</td>\n",
       "      <td>DEAN</td>\n",
       "      <td>POLYGON ((3589501.995654944 1267711.942797092,...</td>\n",
       "    </tr>\n",
       "    <tr>\n",
       "      <th>1398</th>\n",
       "      <td>001</td>\n",
       "      <td>091</td>\n",
       "      <td>0001</td>\n",
       "      <td>0910001</td>\n",
       "      <td>MONTEREY</td>\n",
       "      <td>POLYGON ((3397048.108588794 1222779.626944099,...</td>\n",
       "    </tr>\n",
       "    <tr>\n",
       "      <th>1413</th>\n",
       "      <td>001</td>\n",
       "      <td>690</td>\n",
       "      <td>0001</td>\n",
       "      <td>6900001</td>\n",
       "      <td>PRECINCT #1</td>\n",
       "      <td>POLYGON ((3376345.420440965 1040014.318327136,...</td>\n",
       "    </tr>\n",
       "    <tr>\n",
       "      <th>1449</th>\n",
       "      <td>001</td>\n",
       "      <td>550</td>\n",
       "      <td>0001</td>\n",
       "      <td>5500001</td>\n",
       "      <td>GREAT BRIDGE</td>\n",
       "      <td>POLYGON ((3701892.341057921 1045432.004696649,...</td>\n",
       "    </tr>\n",
       "    <tr>\n",
       "      <th>1489</th>\n",
       "      <td>001</td>\n",
       "      <td>740</td>\n",
       "      <td>0001</td>\n",
       "      <td>7400001</td>\n",
       "      <td>ONE</td>\n",
       "      <td>POLYGON ((3696314.978641337 1058900.883553124,...</td>\n",
       "    </tr>\n",
       "    <tr>\n",
       "      <th>1800</th>\n",
       "      <td>001</td>\n",
       "      <td>600</td>\n",
       "      <td>0001</td>\n",
       "      <td>6000001</td>\n",
       "      <td>ONE</td>\n",
       "      <td>POLYGON ((3603629.664032621 1279570.774190234,...</td>\n",
       "    </tr>\n",
       "    <tr>\n",
       "      <th>1832</th>\n",
       "      <td>001</td>\n",
       "      <td>678</td>\n",
       "      <td>0001</td>\n",
       "      <td>6780001</td>\n",
       "      <td>LEXINGTON</td>\n",
       "      <td>POLYGON ((3417916.686862518 1162445.286364499,...</td>\n",
       "    </tr>\n",
       "    <tr>\n",
       "      <th>1895</th>\n",
       "      <td>001</td>\n",
       "      <td>113</td>\n",
       "      <td>0001</td>\n",
       "      <td>1130001</td>\n",
       "      <td>OAK PARK</td>\n",
       "      <td>POLYGON ((3534837.138104941 1230183.193477722,...</td>\n",
       "    </tr>\n",
       "    <tr>\n",
       "      <th>1938</th>\n",
       "      <td>001</td>\n",
       "      <td>830</td>\n",
       "      <td>0001</td>\n",
       "      <td>8300001</td>\n",
       "      <td>STRYKER</td>\n",
       "      <td>POLYGON ((3659477.326177748 1103061.832242442,...</td>\n",
       "    </tr>\n",
       "  </tbody>\n",
       "</table>\n",
       "</div>"
      ],
      "text/plain": [
       "     PRECINCT COUNTY PRECINCT2     CODE              NAME  \\\n",
       "17        001    770      0001  7700001        HIGHLAND 1   \n",
       "24        001    810      0001  8100001       NORTH BEACH   \n",
       "141       001    530      0001  5300001        FIRST WARD   \n",
       "255       001    520      0001  5200001        FIRST WARD   \n",
       "380       001    685      0001  6850001      PRECINCT ONE   \n",
       "439       001    610      0001  6100001        FIRST WARD   \n",
       "681       001    640      0001  6400001              EAST   \n",
       "690       001    590      0001  5900001          WARD ONE   \n",
       "841       001    720      0001  7200001         EAST WARD   \n",
       "891       001    775      0001  7750001  NORTH SALEM NO 2   \n",
       "941       001    820      0001  8200001            WARD A   \n",
       "954       001    735      0001  7350001           CENTRAL   \n",
       "968       001    570      0001  5700001             FIRST   \n",
       "1016      001    750      0001  7500001     EAST PRECINCT   \n",
       "1090      001    115      0001  1150001        CHESAPEAKE   \n",
       "1100      001    013      0001  0130001         ARLINGTON   \n",
       "1194      001    683      0001  6830001              DEAN   \n",
       "1398      001    091      0001  0910001          MONTEREY   \n",
       "1413      001    690      0001  6900001       PRECINCT #1   \n",
       "1449      001    550      0001  5500001      GREAT BRIDGE   \n",
       "1489      001    740      0001  7400001               ONE   \n",
       "1800      001    600      0001  6000001               ONE   \n",
       "1832      001    678      0001  6780001         LEXINGTON   \n",
       "1895      001    113      0001  1130001          OAK PARK   \n",
       "1938      001    830      0001  8300001           STRYKER   \n",
       "\n",
       "                                               geometry  \n",
       "17    POLYGON ((3369484.720854738 1105958.277720217,...  \n",
       "24    POLYGON ((3724404.044834437 1063363.491314226,...  \n",
       "141   POLYGON ((3425970.940243367 1155519.467685004,...  \n",
       "255   POLYGON ((3165115.154699003 1035751.262412749,...  \n",
       "380   POLYGON ((3593412.151182791 1271014.078470423,...  \n",
       "439   POLYGON ((3614931.371911073 1283447.895843895,...  \n",
       "681   POLYGON ((3286244.016052797 1042950.00822324, ...  \n",
       "690   POLYGON ((3421296.685954724 1028176.391220204,...  \n",
       "841   POLYGON ((3129421.076528723 1073139.086425547,...  \n",
       "891   POLYGON ((3362164.389100533 1107676.581165892,...  \n",
       "941   POLYGON ((3467877.508146662 1195418.971452138,...  \n",
       "954   POLYGON ((3689510.315447792 1088665.531827679,...  \n",
       "968   POLYGON ((3596567.687775808 1103197.81969139, ...  \n",
       "1016  POLYGON ((3315236.988351392 1086096.879388616,...  \n",
       "1090  POLYGON ((3699120.61618787 1123041.756912935, ...  \n",
       "1100  POLYGON ((3622365.140466081 1280620.498797325,...  \n",
       "1194  POLYGON ((3589501.995654944 1267711.942797092,...  \n",
       "1398  POLYGON ((3397048.108588794 1222779.626944099,...  \n",
       "1413  POLYGON ((3376345.420440965 1040014.318327136,...  \n",
       "1449  POLYGON ((3701892.341057921 1045432.004696649,...  \n",
       "1489  POLYGON ((3696314.978641337 1058900.883553124,...  \n",
       "1800  POLYGON ((3603629.664032621 1279570.774190234,...  \n",
       "1832  POLYGON ((3417916.686862518 1162445.286364499,...  \n",
       "1895  POLYGON ((3534837.138104941 1230183.193477722,...  \n",
       "1938  POLYGON ((3659477.326177748 1103061.832242442,...  "
      ]
     },
     "execution_count": 8,
     "metadata": {},
     "output_type": "execute_result"
    }
   ],
   "source": [
    "geo_df[geo_df[\"PRECINCT\"] == '001']"
   ]
  },
  {
   "cell_type": "code",
   "execution_count": 227,
   "metadata": {
    "collapsed": true
   },
   "outputs": [],
   "source": [
    "idx = index.Index()"
   ]
  },
  {
   "cell_type": "code",
   "execution_count": 228,
   "metadata": {
    "collapsed": true
   },
   "outputs": [],
   "source": [
    "geo_buffer = geo_df.assign(geometry = geo_df.buffer(50))"
   ]
  },
  {
   "cell_type": "code",
   "execution_count": 99,
   "metadata": {},
   "outputs": [
    {
     "data": {
      "text/plain": [
       "<matplotlib.axes._subplots.AxesSubplot at 0x12e5dc978>"
      ]
     },
     "execution_count": 99,
     "metadata": {},
     "output_type": "execute_result"
    }
   ],
   "source": [
    "geo_buffer.plot()"
   ]
  },
  {
   "cell_type": "code",
   "execution_count": 229,
   "metadata": {
    "collapsed": true
   },
   "outputs": [],
   "source": [
    "for i, poly in geo_buffer.iterrows():\n",
    "    idx.insert(i, poly.geometry.bounds)"
   ]
  },
  {
   "cell_type": "code",
   "execution_count": 230,
   "metadata": {},
   "outputs": [
    {
     "data": {
      "text/plain": [
       "<matplotlib.axes._subplots.AxesSubplot at 0x15d809780>"
      ]
     },
     "execution_count": 230,
     "metadata": {},
     "output_type": "execute_result"
    },
    {
     "data": {
      "image/png": "[encoded data removed]",
      "text/plain": [
       "<matplotlib.figure.Figure at 0x15d8076d8>"
      ]
     },
     "metadata": {},
     "output_type": "display_data"
    }
   ],
   "source": [
    "geo_buffer_list = [x[1] for x in list(geo_buffer.iterrows())]\n",
    "precinct = geo_buffer_list[10]\n",
    "geo_df.iloc[list(idx.intersection(precinct.geometry.bounds))].plot()"
   ]
  },
  {
   "cell_type": "code",
   "execution_count": 231,
   "metadata": {},
   "outputs": [
    {
     "data": {
      "text/plain": [
       "<matplotlib.axes._subplots.AxesSubplot at 0x15d65f0f0>"
      ]
     },
     "execution_count": 231,
     "metadata": {},
     "output_type": "execute_result"
    },
    {
     "data": {
      "image/png": "[encoded data removed]",
      "text/plain": [
       "<matplotlib.figure.Figure at 0x15d66ea20>"
      ]
     },
     "metadata": {},
     "output_type": "display_data"
    }
   ],
   "source": [
    "precinct = [x for x in geo_buffer_list if x.CODE == '1310401'][0]\n",
    "geo_df.iloc[list(idx.intersection(precinct.geometry.bounds))].plot()\n"
   ]
  },
  {
   "cell_type": "code",
   "execution_count": 232,
   "metadata": {
    "collapsed": true
   },
   "outputs": [],
   "source": [
    "edges = []\n",
    "for i, precinct in geo_df.iterrows():\n",
    "    precinct_id = precinct.CODE\n",
    "    matching_precincts = list(idx.intersection(precinct.geometry.bounds))\n",
    "    matching_precinct_ids = list(geo_df.iloc[matching_precincts].CODE)\n",
    "    new_edges = [(precinct_id, matched_id) for matched_id in matching_precinct_ids]\n",
    "    edges += new_edges"
   ]
  },
  {
   "cell_type": "code",
   "execution_count": 140,
   "metadata": {},
   "outputs": [
    {
     "data": {
      "text/plain": [
       "22408"
      ]
     },
     "execution_count": 140,
     "metadata": {},
     "output_type": "execute_result"
    }
   ],
   "source": [
    "len(edges)"
   ]
  },
  {
   "cell_type": "code",
   "execution_count": 234,
   "metadata": {
    "collapsed": true
   },
   "outputs": [],
   "source": [
    "pd.DataFrame(edges, columns=[\"source_id\", \"target_id\"]).to_csv(adj_list_location, index=False)"
   ]
  },
  {
   "cell_type": "code",
   "execution_count": 235,
   "metadata": {
    "collapsed": true
   },
   "outputs": [],
   "source": [
    "adj_df = pd.read_csv(adj_list_location, dtype=str)\n",
    "adj_list =  [list(row[1]) for row in adj_df.iterrows()]\n",
    "distinct_precincts = list(geo_df[\"CODE\"].unique())\n",
    "graph = igraph.Graph()\n",
    "graph.add_vertices(distinct_precincts)\n",
    "graph.add_edges(adj_list)"
   ]
  },
  {
   "cell_type": "code",
   "execution_count": 144,
   "metadata": {},
   "outputs": [
    {
     "data": {
      "text/plain": [
       "2417"
      ]
     },
     "execution_count": 144,
     "metadata": {},
     "output_type": "execute_result"
    }
   ],
   "source": [
    "len(graph.vs)"
   ]
  },
  {
   "cell_type": "code",
   "execution_count": 145,
   "metadata": {},
   "outputs": [
    {
     "data": {
      "text/plain": [
       "22408"
      ]
     },
     "execution_count": 145,
     "metadata": {},
     "output_type": "execute_result"
    }
   ],
   "source": [
    "len(graph.es)"
   ]
  },
  {
   "cell_type": "code",
   "execution_count": 147,
   "metadata": {},
   "outputs": [
    {
     "data": {
      "text/plain": [
       "2417"
      ]
     },
     "execution_count": 147,
     "metadata": {},
     "output_type": "execute_result"
    }
   ],
   "source": [
    "len(geo_df)"
   ]
  },
  {
   "cell_type": "code",
   "execution_count": 148,
   "metadata": {},
   "outputs": [
    {
     "data": {
      "text/plain": [
       "3"
      ]
     },
     "execution_count": 148,
     "metadata": {},
     "output_type": "execute_result"
    }
   ],
   "source": [
    "len(graph.components())"
   ]
  },
  {
   "cell_type": "code",
   "execution_count": 153,
   "metadata": {},
   "outputs": [
    {
     "data": {
      "text/plain": [
       "[0, 1141, 1810, 1834, 1837, 1838, 1840, 1841]"
      ]
     },
     "execution_count": 153,
     "metadata": {},
     "output_type": "execute_result"
    }
   ],
   "source": [
    "node = graph.vs[0]\n"
   ]
  },
  {
   "cell_type": "code",
   "execution_count": 191,
   "metadata": {
    "collapsed": true
   },
   "outputs": [],
   "source": [
    "def get_subgraph_nbhd(subgraph, graph):\n",
    "    subgraph_indices = [vertex['name'] for vertex in subgraph.vs]\n",
    "    nbhd_indices = [graph.vs[x]['name'] for y in graph.neighborhood(subgraph_indices) for x in y if graph.vs[x]['name'] not in subgraph_indices]\n",
    "    return nbhd_indices"
   ]
  },
  {
   "cell_type": "code",
   "execution_count": 195,
   "metadata": {
    "collapsed": true
   },
   "outputs": [],
   "source": [
    "subgraph = graph.subgraph([0, 100])\n",
    "new_indices = get_subgraph_nbhd(subgraph, graph)"
   ]
  },
  {
   "cell_type": "code",
   "execution_count": 196,
   "metadata": {
    "collapsed": true
   },
   "outputs": [],
   "source": [
    "added_vertex = random.choice(new_indices)"
   ]
  },
  {
   "cell_type": "code",
   "execution_count": 197,
   "metadata": {
    "collapsed": true
   },
   "outputs": [],
   "source": [
    "new_subgraph = graph.subgraph(subgraph.vs['name'] + [added_vertex])"
   ]
  },
  {
   "cell_type": "code",
   "execution_count": 198,
   "metadata": {},
   "outputs": [
    {
     "data": {
      "text/plain": [
       "[igraph.Vertex(<igraph.Graph object at 0x131870318>, 0, {'name': '0410110'}),\n",
       " igraph.Vertex(<igraph.Graph object at 0x131870318>, 1, {'name': '0730501'}),\n",
       " igraph.Vertex(<igraph.Graph object at 0x131870318>, 2, {'name': '0410109'})]"
      ]
     },
     "execution_count": 198,
     "metadata": {},
     "output_type": "execute_result"
    }
   ],
   "source": [
    "list(new_subgraph.vs)"
   ]
  },
  {
   "cell_type": "code",
   "execution_count": 281,
   "metadata": {
    "collapsed": true
   },
   "outputs": [],
   "source": [
    "def add_random_neighbor(subgraph, graph, used_vertices):\n",
    "    new_indices = [index for index in get_subgraph_nbhd(subgraph, graph) if index not in used_vertices]\n",
    "    if len(new_indices) > 0:\n",
    "        added_vertex = random.choice(new_indices)\n",
    "        subgraph = graph.subgraph(subgraph.vs['name'] + [added_vertex])\n",
    "        return added_vertex, subgraph\n",
    "    else: \n",
    "        return None, subgraph\n"
   ]
  },
  {
   "cell_type": "code",
   "execution_count": 241,
   "metadata": {
    "collapsed": true
   },
   "outputs": [],
   "source": [
    "subgraph = graph.subgraph([1000])\n",
    "for i in range(500):\n",
    "    _, subgraph = add_random_neighbor(subgraph, graph)"
   ]
  },
  {
   "cell_type": "code",
   "execution_count": null,
   "metadata": {
    "collapsed": true
   },
   "outputs": [],
   "source": []
  },
  {
   "cell_type": "code",
   "execution_count": 225,
   "metadata": {
    "collapsed": true
   },
   "outputs": [],
   "source": [
    "names = list(subgraph.vs['name'])"
   ]
  },
  {
   "cell_type": "code",
   "execution_count": 231,
   "metadata": {},
   "outputs": [
    {
     "data": {
      "text/plain": [
       "<matplotlib.axes._subplots.AxesSubplot at 0x12eb8f9e8>"
      ]
     },
     "execution_count": 231,
     "metadata": {},
     "output_type": "execute_result"
    }
   ],
   "source": [
    "geo_df[list(map(lambda x: x in names, geo_df.CODE))].plot()"
   ]
  },
  {
   "cell_type": "code",
   "execution_count": 318,
   "metadata": {
    "collapsed": true
   },
   "outputs": [],
   "source": [
    "seed_vertices = random.choices(list(graph.vs['name']), k=11)"
   ]
  },
  {
   "cell_type": "code",
   "execution_count": 319,
   "metadata": {
    "collapsed": true
   },
   "outputs": [],
   "source": [
    "district_ids = range(len(seed_vertices))\n",
    "used_vertices = seed_vertices\n",
    "unused_vertices = [name for name in list(graph.vs['name']) if name not in used_vertices]\n",
    "subgraphs = [graph.subgraph(vertex) for vertex in seed_vertices]"
   ]
  },
  {
   "cell_type": "code",
   "execution_count": 320,
   "metadata": {
    "collapsed": true
   },
   "outputs": [],
   "source": [
    "district_ids = range(len(seed_vertices))\n",
    "while len(unused_vertices) > 22:\n",
    "    random_subgraph_id = random.choice(district_ids)\n",
    "    random_subgraph = subgraphs[random_subgraph_id]\n",
    "    added_vertex, new_subgraph = add_random_neighbor(random_subgraph, graph, used_vertices)\n",
    "    subgraphs[random_subgraph_id] = new_subgraph\n",
    "    if added_vertex:\n",
    "        used_vertices += [added_vertex]\n",
    "        unused_vertices.remove(added_vertex)"
   ]
  },
  {
   "cell_type": "code",
   "execution_count": 314,
   "metadata": {},
   "outputs": [
    {
     "data": {
      "text/plain": [
       "range(0, 30)"
      ]
     },
     "execution_count": 314,
     "metadata": {},
     "output_type": "execute_result"
    }
   ],
   "source": []
  },
  {
   "cell_type": "code",
   "execution_count": 321,
   "metadata": {
    "collapsed": true
   },
   "outputs": [],
   "source": [
    "for id in district_ids:\n",
    "    district = subgraphs[id]\n",
    "    district_ids = list(district.vs['name'])\n",
    "    geo_df.loc[geo_df['CODE'].isin(district_ids), \"district\"] = id"
   ]
  },
  {
   "cell_type": "code",
   "execution_count": 322,
   "metadata": {},
   "outputs": [
    {
     "data": {
      "text/plain": [
       "<matplotlib.axes._subplots.AxesSubplot at 0x12aed0470>"
      ]
     },
     "execution_count": 322,
     "metadata": {},
     "output_type": "execute_result"
    },
    {
     "name": "stderr",
     "output_type": "stream",
     "text": [
      "/Users/msp/anaconda3/lib/python3.6/site-packages/matplotlib/colors.py:489: RuntimeWarning: invalid value encountered in less\n",
      "  np.copyto(xa, -1, where=xa < 0.0)\n"
     ]
    }
   ],
   "source": [
    "geo_df.plot(column = \"district\")"
   ]
  },
  {
   "cell_type": "code",
   "execution_count": 307,
   "metadata": {},
   "outputs": [
    {
     "data": {
      "text/html": [
       "<div>\n",
       "<style>\n",
       "    .dataframe thead tr:only-child th {\n",
       "        text-align: right;\n",
       "    }\n",
       "\n",
       "    .dataframe thead th {\n",
       "        text-align: left;\n",
       "    }\n",
       "\n",
       "    .dataframe tbody tr th {\n",
       "        vertical-align: top;\n",
       "    }\n",
       "</style>\n",
       "<table border=\"1\" class=\"dataframe\">\n",
       "  <thead>\n",
       "    <tr style=\"text-align: right;\">\n",
       "      <th></th>\n",
       "      <th>PRECINCT</th>\n",
       "      <th>COUNTY</th>\n",
       "      <th>PRECINCT2</th>\n",
       "      <th>CODE</th>\n",
       "      <th>NAME</th>\n",
       "      <th>geometry</th>\n",
       "      <th>district</th>\n",
       "    </tr>\n",
       "  </thead>\n",
       "  <tbody>\n",
       "    <tr>\n",
       "      <th>102</th>\n",
       "      <td>101</td>\n",
       "      <td>131</td>\n",
       "      <td>0101</td>\n",
       "      <td>1310101</td>\n",
       "      <td>PRECINCT 1-1</td>\n",
       "      <td>POLYGON ((3739657.843542578 1110438.621873228,...</td>\n",
       "      <td>NaN</td>\n",
       "    </tr>\n",
       "    <tr>\n",
       "      <th>167</th>\n",
       "      <td>803</td>\n",
       "      <td>001</td>\n",
       "      <td>0803</td>\n",
       "      <td>0010803</td>\n",
       "      <td>WACHAPREAGUE</td>\n",
       "      <td>POLYGON ((3748150.603483862 1149934.277000266,...</td>\n",
       "      <td>NaN</td>\n",
       "    </tr>\n",
       "    <tr>\n",
       "      <th>169</th>\n",
       "      <td>801</td>\n",
       "      <td>001</td>\n",
       "      <td>0801</td>\n",
       "      <td>0010801</td>\n",
       "      <td>BOBTOWN</td>\n",
       "      <td>POLYGON ((3738962.021602001 1152203.912699004,...</td>\n",
       "      <td>NaN</td>\n",
       "    </tr>\n",
       "    <tr>\n",
       "      <th>253</th>\n",
       "      <td>301</td>\n",
       "      <td>001</td>\n",
       "      <td>0301</td>\n",
       "      <td>0010301</td>\n",
       "      <td>OAK HALL</td>\n",
       "      <td>POLYGON ((3764244.384992584 1181589.444002362,...</td>\n",
       "      <td>NaN</td>\n",
       "    </tr>\n",
       "    <tr>\n",
       "      <th>294</th>\n",
       "      <td>901</td>\n",
       "      <td>001</td>\n",
       "      <td>0901</td>\n",
       "      <td>0010901</td>\n",
       "      <td>PAINTER</td>\n",
       "      <td>POLYGON ((3744349.197655383 1146838.079710923,...</td>\n",
       "      <td>NaN</td>\n",
       "    </tr>\n",
       "    <tr>\n",
       "      <th>582</th>\n",
       "      <td>101</td>\n",
       "      <td>001</td>\n",
       "      <td>0101</td>\n",
       "      <td>0010101</td>\n",
       "      <td>CHINCOTEAGUE</td>\n",
       "      <td>POLYGON ((3771899.959674231 1175542.430991367,...</td>\n",
       "      <td>NaN</td>\n",
       "    </tr>\n",
       "    <tr>\n",
       "      <th>628</th>\n",
       "      <td>201</td>\n",
       "      <td>131</td>\n",
       "      <td>0201</td>\n",
       "      <td>1310201</td>\n",
       "      <td>PRECINCT 2-1</td>\n",
       "      <td>POLYGON ((3737476.294791277 1121514.329777443,...</td>\n",
       "      <td>NaN</td>\n",
       "    </tr>\n",
       "    <tr>\n",
       "      <th>765</th>\n",
       "      <td>401</td>\n",
       "      <td>131</td>\n",
       "      <td>0401</td>\n",
       "      <td>1310401</td>\n",
       "      <td>PRECINCT 4-1</td>\n",
       "      <td>POLYGON ((3731721.988890339 1134764.349868226,...</td>\n",
       "      <td>NaN</td>\n",
       "    </tr>\n",
       "    <tr>\n",
       "      <th>951</th>\n",
       "      <td>501</td>\n",
       "      <td>131</td>\n",
       "      <td>0501</td>\n",
       "      <td>1310501</td>\n",
       "      <td>PRECINCT 5-1</td>\n",
       "      <td>POLYGON ((3737317.450421249 1137608.185610337,...</td>\n",
       "      <td>NaN</td>\n",
       "    </tr>\n",
       "    <tr>\n",
       "      <th>956</th>\n",
       "      <td>601</td>\n",
       "      <td>001</td>\n",
       "      <td>0601</td>\n",
       "      <td>0010601</td>\n",
       "      <td>ACCOMAC</td>\n",
       "      <td>POLYGON ((3749969.293498054 1163253.493299586,...</td>\n",
       "      <td>NaN</td>\n",
       "    </tr>\n",
       "    <tr>\n",
       "      <th>957</th>\n",
       "      <td>602</td>\n",
       "      <td>001</td>\n",
       "      <td>0602</td>\n",
       "      <td>0010602</td>\n",
       "      <td>TANGIER</td>\n",
       "      <td>(POLYGON ((3721696.974251164 1166414.435857395...</td>\n",
       "      <td>NaN</td>\n",
       "    </tr>\n",
       "    <tr>\n",
       "      <th>976</th>\n",
       "      <td>802</td>\n",
       "      <td>001</td>\n",
       "      <td>0802</td>\n",
       "      <td>0010802</td>\n",
       "      <td>MELFA</td>\n",
       "      <td>POLYGON ((3744274.305229201 1154318.073010642,...</td>\n",
       "      <td>NaN</td>\n",
       "    </tr>\n",
       "    <tr>\n",
       "      <th>1107</th>\n",
       "      <td>701</td>\n",
       "      <td>001</td>\n",
       "      <td>0701</td>\n",
       "      <td>0010701</td>\n",
       "      <td>ONANCOCK</td>\n",
       "      <td>POLYGON ((3746384.078518852 1156201.132622058,...</td>\n",
       "      <td>NaN</td>\n",
       "    </tr>\n",
       "    <tr>\n",
       "      <th>1108</th>\n",
       "      <td>702</td>\n",
       "      <td>001</td>\n",
       "      <td>0702</td>\n",
       "      <td>0010702</td>\n",
       "      <td>ONLEY</td>\n",
       "      <td>POLYGON ((3756320.316332269 1154427.899467413,...</td>\n",
       "      <td>NaN</td>\n",
       "    </tr>\n",
       "    <tr>\n",
       "      <th>1248</th>\n",
       "      <td>402</td>\n",
       "      <td>001</td>\n",
       "      <td>0402</td>\n",
       "      <td>0010402</td>\n",
       "      <td>PARKSLEY</td>\n",
       "      <td>POLYGON ((3752904.163462689 1166539.451314128,...</td>\n",
       "      <td>NaN</td>\n",
       "    </tr>\n",
       "    <tr>\n",
       "      <th>1249</th>\n",
       "      <td>403</td>\n",
       "      <td>001</td>\n",
       "      <td>0403</td>\n",
       "      <td>0010403</td>\n",
       "      <td>SAXIS</td>\n",
       "      <td>POLYGON ((3750621.000586094 1182853.110189158,...</td>\n",
       "      <td>NaN</td>\n",
       "    </tr>\n",
       "    <tr>\n",
       "      <th>1250</th>\n",
       "      <td>401</td>\n",
       "      <td>001</td>\n",
       "      <td>0401</td>\n",
       "      <td>0010401</td>\n",
       "      <td>BLOXOM</td>\n",
       "      <td>POLYGON ((3755159.566367709 1174880.464103607,...</td>\n",
       "      <td>NaN</td>\n",
       "    </tr>\n",
       "    <tr>\n",
       "      <th>1426</th>\n",
       "      <td>502</td>\n",
       "      <td>001</td>\n",
       "      <td>0502</td>\n",
       "      <td>0010502</td>\n",
       "      <td>RUE</td>\n",
       "      <td>POLYGON ((3761013.599887407 1162929.654950901,...</td>\n",
       "      <td>NaN</td>\n",
       "    </tr>\n",
       "    <tr>\n",
       "      <th>1427</th>\n",
       "      <td>501</td>\n",
       "      <td>001</td>\n",
       "      <td>0501</td>\n",
       "      <td>0010501</td>\n",
       "      <td>MAPPSVILLE</td>\n",
       "      <td>POLYGON ((3761771.842193384 1164297.390018109,...</td>\n",
       "      <td>NaN</td>\n",
       "    </tr>\n",
       "    <tr>\n",
       "      <th>1574</th>\n",
       "      <td>201</td>\n",
       "      <td>001</td>\n",
       "      <td>0201</td>\n",
       "      <td>0010201</td>\n",
       "      <td>ATLANTIC</td>\n",
       "      <td>(POLYGON ((3761629.137538253 1163962.389400346...</td>\n",
       "      <td>NaN</td>\n",
       "    </tr>\n",
       "    <tr>\n",
       "      <th>1575</th>\n",
       "      <td>202</td>\n",
       "      <td>001</td>\n",
       "      <td>0202</td>\n",
       "      <td>0010202</td>\n",
       "      <td>GREENBACKVILLE</td>\n",
       "      <td>POLYGON ((3771020.103603711 1182158.543395124,...</td>\n",
       "      <td>NaN</td>\n",
       "    </tr>\n",
       "    <tr>\n",
       "      <th>1762</th>\n",
       "      <td>301</td>\n",
       "      <td>131</td>\n",
       "      <td>0301</td>\n",
       "      <td>1310301</td>\n",
       "      <td>PRECINCT 3-1</td>\n",
       "      <td>POLYGON ((3738116.428162108 1137100.463625641,...</td>\n",
       "      <td>NaN</td>\n",
       "    </tr>\n",
       "  </tbody>\n",
       "</table>\n",
       "</div>"
      ],
      "text/plain": [
       "     PRECINCT COUNTY PRECINCT2     CODE            NAME  \\\n",
       "102       101    131      0101  1310101    PRECINCT 1-1   \n",
       "167       803    001      0803  0010803    WACHAPREAGUE   \n",
       "169       801    001      0801  0010801         BOBTOWN   \n",
       "253       301    001      0301  0010301        OAK HALL   \n",
       "294       901    001      0901  0010901         PAINTER   \n",
       "582       101    001      0101  0010101    CHINCOTEAGUE   \n",
       "628       201    131      0201  1310201    PRECINCT 2-1   \n",
       "765       401    131      0401  1310401    PRECINCT 4-1   \n",
       "951       501    131      0501  1310501    PRECINCT 5-1   \n",
       "956       601    001      0601  0010601         ACCOMAC   \n",
       "957       602    001      0602  0010602         TANGIER   \n",
       "976       802    001      0802  0010802           MELFA   \n",
       "1107      701    001      0701  0010701        ONANCOCK   \n",
       "1108      702    001      0702  0010702           ONLEY   \n",
       "1248      402    001      0402  0010402        PARKSLEY   \n",
       "1249      403    001      0403  0010403           SAXIS   \n",
       "1250      401    001      0401  0010401          BLOXOM   \n",
       "1426      502    001      0502  0010502             RUE   \n",
       "1427      501    001      0501  0010501      MAPPSVILLE   \n",
       "1574      201    001      0201  0010201        ATLANTIC   \n",
       "1575      202    001      0202  0010202  GREENBACKVILLE   \n",
       "1762      301    131      0301  1310301    PRECINCT 3-1   \n",
       "\n",
       "                                               geometry  district  \n",
       "102   POLYGON ((3739657.843542578 1110438.621873228,...       NaN  \n",
       "167   POLYGON ((3748150.603483862 1149934.277000266,...       NaN  \n",
       "169   POLYGON ((3738962.021602001 1152203.912699004,...       NaN  \n",
       "253   POLYGON ((3764244.384992584 1181589.444002362,...       NaN  \n",
       "294   POLYGON ((3744349.197655383 1146838.079710923,...       NaN  \n",
       "582   POLYGON ((3771899.959674231 1175542.430991367,...       NaN  \n",
       "628   POLYGON ((3737476.294791277 1121514.329777443,...       NaN  \n",
       "765   POLYGON ((3731721.988890339 1134764.349868226,...       NaN  \n",
       "951   POLYGON ((3737317.450421249 1137608.185610337,...       NaN  \n",
       "956   POLYGON ((3749969.293498054 1163253.493299586,...       NaN  \n",
       "957   (POLYGON ((3721696.974251164 1166414.435857395...       NaN  \n",
       "976   POLYGON ((3744274.305229201 1154318.073010642,...       NaN  \n",
       "1107  POLYGON ((3746384.078518852 1156201.132622058,...       NaN  \n",
       "1108  POLYGON ((3756320.316332269 1154427.899467413,...       NaN  \n",
       "1248  POLYGON ((3752904.163462689 1166539.451314128,...       NaN  \n",
       "1249  POLYGON ((3750621.000586094 1182853.110189158,...       NaN  \n",
       "1250  POLYGON ((3755159.566367709 1174880.464103607,...       NaN  \n",
       "1426  POLYGON ((3761013.599887407 1162929.654950901,...       NaN  \n",
       "1427  POLYGON ((3761771.842193384 1164297.390018109,...       NaN  \n",
       "1574  (POLYGON ((3761629.137538253 1163962.389400346...       NaN  \n",
       "1575  POLYGON ((3771020.103603711 1182158.543395124,...       NaN  \n",
       "1762  POLYGON ((3738116.428162108 1137100.463625641,...       NaN  "
      ]
     },
     "execution_count": 307,
     "metadata": {},
     "output_type": "execute_result"
    }
   ],
   "source": [
    "geo_df[geo_df[\"district\"].isnull()]"
   ]
  },
  {
   "cell_type": "code",
   "execution_count": 75,
   "metadata": {},
   "outputs": [],
   "source": [
    "import scipy as sp\n",
    "from scipy.sparse import lil_matrix\n",
    "import numpy as np"
   ]
  },
  {
   "cell_type": "code",
   "execution_count": 236,
   "metadata": {},
   "outputs": [],
   "source": [
    "num_precincts = len(distinct_precincts)\n",
    "index_to_precinct = dict(enumerate(distinct_precincts))\n",
    "precinct_to_index = {v:k for (k,v) in index_to_precinct.items()}"
   ]
  },
  {
   "cell_type": "code",
   "execution_count": 237,
   "metadata": {},
   "outputs": [],
   "source": [
    "adj_mat_lil = lil_matrix((num_precincts, num_precincts), dtype=np.float32)\n",
    "entries = [(precinct_to_index[x], precinct_to_index[y]) for x,y in adj_list]\n",
    "for x,y in entries:\n",
    "    if x != y:\n",
    "        adj_mat_lil[x,y] = 1\n",
    "        adj_mat_lil[y,x] = 1"
   ]
  },
  {
   "cell_type": "code",
   "execution_count": 238,
   "metadata": {},
   "outputs": [],
   "source": [
    "adj_mat = adj_mat_lil.tocsr()"
   ]
  },
  {
   "cell_type": "code",
   "execution_count": 239,
   "metadata": {},
   "outputs": [],
   "source": [
    "degrees = np.asarray(np.sum(adj_mat, axis=0)).squeeze()"
   ]
  },
  {
   "cell_type": "code",
   "execution_count": 240,
   "metadata": {},
   "outputs": [],
   "source": [
    "laplacian_mat_lil = lil_matrix((num_precincts, num_precincts), dtype=np.float32)\n",
    "for x,y in entries:\n",
    "    if x != y:\n",
    "        deg_x = degrees[x]\n",
    "        deg_y = degrees[y]    \n",
    "        val = - 1/np.sqrt((deg_x * deg_y))\n",
    "        laplacian_mat_lil[x,y] = val\n",
    "        laplacian_mat_lil[y,x] = val\n",
    "for x in range(num_precincts):\n",
    "    laplacian_mat_lil[x,x] = 1"
   ]
  },
  {
   "cell_type": "code",
   "execution_count": 241,
   "metadata": {},
   "outputs": [],
   "source": [
    "laplacian_mat = laplacian_mat_lil.tocsr()"
   ]
  },
  {
   "cell_type": "code",
   "execution_count": 242,
   "metadata": {},
   "outputs": [],
   "source": [
    "alpha = 0.001\n",
    "num_districts = 11\n",
    "import random\n",
    "random_starts = random.choices(range(num_precincts), k=num_districts)\n",
    "label_matrix_lil = lil_matrix((num_precincts, num_districts))\n",
    "for district_num, start in enumerate(random_starts):\n",
    "    label_matrix_lil[start, district_num] = 1"
   ]
  },
  {
   "cell_type": "code",
   "execution_count": 243,
   "metadata": {},
   "outputs": [],
   "source": [
    "initial_label_matrix = label_matrix_lil.tocsr()"
   ]
  },
  {
   "cell_type": "code",
   "execution_count": 244,
   "metadata": {},
   "outputs": [],
   "source": [
    "label_matrix = initial_label_matrix.copy()"
   ]
  },
  {
   "cell_type": "code",
   "execution_count": 245,
   "metadata": {
    "collapsed": true
   },
   "outputs": [],
   "source": [
    "for i in range(1000):\n",
    "    label_matrix = alpha*np.dot(laplacian_mat, label_matrix) + (1-alpha)*initial_label_matrix"
   ]
  },
  {
   "cell_type": "code",
   "execution_count": 246,
   "metadata": {},
   "outputs": [],
   "source": [
    "districts = np.asarray(np.argmax(label_matrix, axis=1)).squeeze()"
   ]
  },
  {
   "cell_type": "code",
   "execution_count": 247,
   "metadata": {},
   "outputs": [],
   "source": [
    "for i in range(num_precincts):\n",
    "    precinct_code = index_to_precinct[i]\n",
    "    district_id = districts[i]\n",
    "    geo_df.loc[geo_df['CODE'] == precinct_code, \"district\"] = district_id"
   ]
  },
  {
   "cell_type": "code",
   "execution_count": 248,
   "metadata": {},
   "outputs": [
    {
     "data": {
      "text/plain": [
       "<matplotlib.axes._subplots.AxesSubplot at 0x15e215b38>"
      ]
     },
     "execution_count": 248,
     "metadata": {},
     "output_type": "execute_result"
    },
    {
     "data": {
      "image/png": "[encoded data removed]",
      "text/plain": [
       "<matplotlib.figure.Figure at 0x15d69cbe0>"
      ]
     },
     "metadata": {},
     "output_type": "display_data"
    }
   ],
   "source": [
    "%matplotlib inline\n",
    "geo_df.plot(column = \"district\")\n"
   ]
  },
  {
   "cell_type": "code",
   "execution_count": 210,
   "metadata": {},
   "outputs": [
    {
     "name": "stderr",
     "output_type": "stream",
     "text": [
      "WARNING:Fiona:CPLE_NotSupported in b'dataset /Users/msp/Desktop/t.geojson does not support layer creation option ENCODING'\n"
     ]
    }
   ],
   "source": [
    "geo_df.to_file(driver='GeoJSON', filename=\"/Users/msp/Desktop/t.geojson\")"
   ]
  },
  {
   "cell_type": "code",
   "execution_count": null,
   "metadata": {
    "collapsed": true
   },
   "outputs": [],
   "source": []
  }
 ],
 "metadata": {
  "kernelspec": {
   "display_name": "Python 3",
   "language": "python",
   "name": "python3"
  },
  "language_info": {
   "codemirror_mode": {
    "name": "ipython",
    "version": 3
   },
   "file_extension": ".py",
   "mimetype": "text/x-python",
   "name": "python",
   "nbconvert_exporter": "python",
   "pygments_lexer": "ipython3",
   "version": "3.6.3"
  }
 },
 "nbformat": 4,
 "nbformat_minor": 2
}
